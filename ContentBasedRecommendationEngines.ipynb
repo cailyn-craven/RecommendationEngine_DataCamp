{
 "cells": [
  {
   "cell_type": "code",
   "execution_count": 1,
   "metadata": {},
   "outputs": [],
   "source": [
    "import pandas as pd\n",
    "import numpy as np\n",
    "import matplotlib.pyplot as plt\n",
    "from itertools import permutations\n",
    "from sklearn.metrics import jaccard_score \n",
    "# Import functions from scipy\n",
    "# pdist is pariwise distance \n",
    "# squareform: Convert a vector-form distance vector \n",
    "# to a square-form distance matrix, and vice-versa.\n",
    "from scipy.spatial.distance import pdist, squareform"
   ]
  },
  {
   "cell_type": "markdown",
   "metadata": {},
   "source": [
    "This notebook is from the DataCamp course \"Building Recommendation Engines in Python.\" \n",
    "https://learn.datacamp.com"
   ]
  },
  {
   "cell_type": "code",
   "execution_count": 2,
   "metadata": {},
   "outputs": [
    {
     "name": "stdout",
     "output_type": "stream",
     "text": [
      "   userId  movieId  rating   timestamp             title  \\\n",
      "0       1        1     4.0   964982703  Toy Story (1995)   \n",
      "1       5        1     4.0   847434962  Toy Story (1995)   \n",
      "2       7        1     4.5  1106635946  Toy Story (1995)   \n",
      "3      15        1     2.5  1510577970  Toy Story (1995)   \n",
      "4      17        1     4.5  1305696483  Toy Story (1995)   \n",
      "\n",
      "                                        genres  \n",
      "0  Adventure|Animation|Children|Comedy|Fantasy  \n",
      "1  Adventure|Animation|Children|Comedy|Fantasy  \n",
      "2  Adventure|Animation|Children|Comedy|Fantasy  \n",
      "3  Adventure|Animation|Children|Comedy|Fantasy  \n",
      "4  Adventure|Animation|Children|Comedy|Fantasy  \n"
     ]
    }
   ],
   "source": [
    "# load the User Ratings dataset\n",
    "# this is a subset of the MovieLens dataset \n",
    "user_ratings_df = pd.read_csv('user_ratings.csv')\n",
    "print(user_ratings_df.head())"
   ]
  },
  {
   "cell_type": "markdown",
   "metadata": {},
   "source": [
    "## Non-personalized Recommendations "
   ]
  },
  {
   "cell_type": "markdown",
   "metadata": {},
   "source": [
    "One approach is to recommend the most popular movie which in this case is the movie that has been viewed by the most users. This is ***implicit data.*** "
   ]
  },
  {
   "cell_type": "code",
   "execution_count": 3,
   "metadata": {},
   "outputs": [
    {
     "name": "stdout",
     "output_type": "stream",
     "text": [
      "Index(['Forrest Gump (1994)', 'Shawshank Redemption, The (1994)',\n",
      "       'Pulp Fiction (1994)', 'Silence of the Lambs, The (1991)',\n",
      "       'Matrix, The (1999)'],\n",
      "      dtype='object')\n"
     ]
    }
   ],
   "source": [
    "# Get the counts of occurrences of each movie title\n",
    "movie_popularity = user_ratings_df[\"title\"].value_counts()\n",
    "\n",
    "# Inspect the most common values\n",
    "print(movie_popularity.head().index)"
   ]
  },
  {
   "cell_type": "markdown",
   "metadata": {},
   "source": [
    "Forrest Gump has been watched by 329 viewers and is the most viewed movie. "
   ]
  },
  {
   "cell_type": "markdown",
   "metadata": {},
   "source": [
    "## User Ratings  \n",
    "A lot of users might watch a movie and really dislike it. The **ratings** in this dataset give us a source of **explicit data**. "
   ]
  },
  {
   "cell_type": "code",
   "execution_count": 4,
   "metadata": {},
   "outputs": [
    {
     "name": "stdout",
     "output_type": "stream",
     "text": [
      "                                     rating\n",
      "title                                      \n",
      "Gena the Crocodile (1969)               5.0\n",
      "True Stories (1986)                     5.0\n",
      "Cosmic Scrat-tastrophe (2015)           5.0\n",
      "Love and Pigeons (1985)                 5.0\n",
      "Red Sorghum (Hong gao liang) (1987)     5.0\n"
     ]
    }
   ],
   "source": [
    "# Find the mean of the ratings given to each title\n",
    "average_rating_df = user_ratings_df[[\"title\", \"rating\"]].groupby('title').mean()\n",
    "\n",
    "# Order the entries by highest average rating to lowest\n",
    "sorted_average_ratings = average_rating_df.sort_values(by='rating', ascending=False)\n",
    "\n",
    "# Inspect the top movies\n",
    "print(sorted_average_ratings.head())"
   ]
  },
  {
   "cell_type": "markdown",
   "metadata": {},
   "source": [
    "Even though this is a real world dataset, the highest-ranked movies are pretty obscure. Let's check how many users have actually seen these movies. "
   ]
  },
  {
   "cell_type": "markdown",
   "metadata": {},
   "source": [
    "## Combining Popularity and Reviews \n",
    "Two of the most common methods of non-personalized recommendations are: \n",
    "+ Most frequently watched\n",
    "+ Most highly rated \n",
    "We've seen some of the downsides of both methods. Recommending the most frequently watched doesn't take into account how people felt about the movie. Recommending the most highly rated, we might recommend really long-tail, niche items. Here we recommend highly rated movies but make sure that they have been reviewed by at least 50 users. "
   ]
  },
  {
   "cell_type": "code",
   "execution_count": 5,
   "metadata": {},
   "outputs": [
    {
     "name": "stdout",
     "output_type": "stream",
     "text": [
      "Index(['Forrest Gump (1994)', 'Shawshank Redemption, The (1994)',\n",
      "       'Pulp Fiction (1994)', 'Silence of the Lambs, The (1991)',\n",
      "       'Matrix, The (1999)', 'Star Wars: Episode IV - A New Hope (1977)',\n",
      "       'Jurassic Park (1993)', 'Braveheart (1995)',\n",
      "       'Terminator 2: Judgment Day (1991)', 'Schindler's List (1993)',\n",
      "       ...\n",
      "       'Million Dollar Baby (2004)', 'X-Men: The Last Stand (2006)',\n",
      "       'Grumpier Old Men (1995)', 'Splash (1984)', 'Army of Darkness (1993)',\n",
      "       'Blow (2001)', 'Mulholland Drive (2001)', 'Training Day (2001)',\n",
      "       'The Devil's Advocate (1997)', 'Bad Boys (1995)'],\n",
      "      dtype='object', length=437)\n"
     ]
    }
   ],
   "source": [
    "# Create a list of only movies appearing > 50 times in the dataset\n",
    "movie_popularity = user_ratings_df[\"title\"].value_counts()\n",
    "popular_movies = movie_popularity[movie_popularity > 50].index\n",
    "print(popular_movies)"
   ]
  },
  {
   "cell_type": "code",
   "execution_count": 6,
   "metadata": {},
   "outputs": [],
   "source": [
    "# Use this popular_movies list to filter the original DataFrame\n",
    "popular_movies_rankings =  user_ratings_df[user_ratings_df[\"title\"].isin(popular_movies)]"
   ]
  },
  {
   "cell_type": "code",
   "execution_count": 7,
   "metadata": {},
   "outputs": [
    {
     "name": "stdout",
     "output_type": "stream",
     "text": [
      "                                                      rating\n",
      "title                                                       \n",
      "Shawshank Redemption, The (1994)                    4.429022\n",
      "Godfather, The (1972)                               4.289062\n",
      "Fight Club (1999)                                   4.272936\n",
      "Cool Hand Luke (1967)                               4.271930\n",
      "Dr. Strangelove or: How I Learned to Stop Worry...  4.268041\n"
     ]
    }
   ],
   "source": [
    "# Find the average rating given to these frequently watched films\n",
    "popular_movies_average_rankings = popular_movies_rankings[[\"title\", \"rating\"]].groupby('title').mean()\n",
    "print(popular_movies_average_rankings.sort_values(by=\"rating\", ascending=False).head())"
   ]
  },
  {
   "cell_type": "markdown",
   "metadata": {},
   "source": [
    "Now we have an easy way to make non-personalized recommendations based on the rating of an item and how frequently it has been interacted with. "
   ]
  },
  {
   "cell_type": "markdown",
   "metadata": {},
   "source": [
    "## Identifying Commonly Seen Together Items "
   ]
  },
  {
   "cell_type": "code",
   "execution_count": 8,
   "metadata": {},
   "outputs": [],
   "source": [
    "# Create the function to find all permutations\n",
    "def find_movie_pairs(x):\n",
    "    \"\"\"\n",
    "    takes in list of movies a user has viewed \n",
    "    returns dataframe with pairs of movies watched by the same user\n",
    "    \"\"\"\n",
    "    pairs = pd.DataFrame(list(permutations(x.values, 2)),\n",
    "                       columns=['movie_a', 'movie_b'])\n",
    "    return pairs"
   ]
  },
  {
   "cell_type": "code",
   "execution_count": null,
   "metadata": {},
   "outputs": [],
   "source": [
    "# Apply the function to the title column and reset the index\n",
    "movie_combinations = user_ratings_df.groupby('userId')['title'].apply(\n",
    "                     find_movie_pairs).reset_index(drop=True)\n",
    "\n",
    "print(movie_combinations)"
   ]
  },
  {
   "cell_type": "markdown",
   "metadata": {},
   "source": [
    "## Counting Up the Pairs \n",
    "Now we have a DataFrame of pairs of movies watched by the same user. This has limited use without knowing which movies are most commonly paired. "
   ]
  },
  {
   "cell_type": "code",
   "execution_count": null,
   "metadata": {},
   "outputs": [],
   "source": [
    "# Calculate how often each item in movie_a occurs with the items in movie_b\n",
    "# this results in a nested series \n",
    "combination_counts = movie_combinations.groupby(['movie_a', 'movie_b']).size()"
   ]
  },
  {
   "cell_type": "code",
   "execution_count": null,
   "metadata": {},
   "outputs": [],
   "source": [
    "# Convert the results to a DataFrame and reset the index\n",
    "# reset index for ease of reading \n",
    "combination_counts_df = combination_counts.to_frame(name= 'size').reset_index()\n",
    "print(combination_counts_df.head())"
   ]
  },
  {
   "cell_type": "markdown",
   "metadata": {},
   "source": [
    "Now we have an aggregated DataFrame we can use to make recommendations. "
   ]
  },
  {
   "cell_type": "markdown",
   "metadata": {},
   "source": [
    "## Make Movie Recommendations "
   ]
  },
  {
   "cell_type": "code",
   "execution_count": null,
   "metadata": {},
   "outputs": [],
   "source": [
    "# Sort the counts from highest to lowest\n",
    "combination_counts_df.sort_values('size', ascending=False, inplace=True)\n",
    "combination_counts_df.head()"
   ]
  },
  {
   "cell_type": "code",
   "execution_count": null,
   "metadata": {},
   "outputs": [],
   "source": [
    "# Find the movies most frequently watched by people who watched Thor\n",
    "thor_df = combination_counts_df[combination_counts_df['movie_a'] == 'Thor (2011)']\n",
    "thor_df.head()"
   ]
  },
  {
   "cell_type": "code",
   "execution_count": null,
   "metadata": {},
   "outputs": [],
   "source": [
    "# Plot the results\n",
    "thor_df.iloc[0:15].plot.bar(x=\"movie_b\")\n",
    "plt.show()"
   ]
  },
  {
   "cell_type": "markdown",
   "metadata": {},
   "source": [
    "Iron Man was the most commonly watched movie by users who watched Thor. This means it would be a good movie to recommend to Thor watchers as it shows that they have similar fans. "
   ]
  },
  {
   "cell_type": "markdown",
   "metadata": {},
   "source": [
    "## Content-Based \n",
    "Recommend items that are similar to items users have liked in the past. <br>\n",
    "Example item-attributes: \n",
    "+ Length\n",
    "+ Language\n",
    "+ Genre \n",
    "+ Author \n",
    "+ Year Published \n",
    "A big advantage of using item attributes instead of feedback for recommendations is that you can make recommendations for new items that don't have reviews or purchases yet. "
   ]
  },
  {
   "cell_type": "code",
   "execution_count": null,
   "metadata": {},
   "outputs": [],
   "source": [
    "# load the User Ratings dataset\n",
    "# this is a subset of the MovieLens dataset \n",
    "movie_genres_df = pd.read_csv('movies.csv')\n",
    "print(movie_genres_df.head())"
   ]
  },
  {
   "cell_type": "code",
   "execution_count": null,
   "metadata": {},
   "outputs": [],
   "source": [
    "print(len(movie_genres_df))"
   ]
  },
  {
   "cell_type": "markdown",
   "metadata": {},
   "source": [
    "There are 9742 movies in this dataset. "
   ]
  },
  {
   "cell_type": "markdown",
   "metadata": {},
   "source": [
    "## Vectorize Attributes \n",
    "Note that right now we have a **one to many** relationship. For every one movie, there are many genres. "
   ]
  },
  {
   "cell_type": "code",
   "execution_count": null,
   "metadata": {},
   "outputs": [],
   "source": [
    "# used this Stack Overflow post for the approach:\n",
    "# https://stackoverflow.com/questions/48010030/create-multiple-new-columns-based-on-pipe-delimited-column-in-pandas/48010102?noredirect=1#comment82995598_48010102\n",
    "movie_genres_df = movie_genres_df.join(movie_genres_df.genres.str.get_dummies())\n",
    "movie_genres_df.head()"
   ]
  },
  {
   "cell_type": "code",
   "execution_count": null,
   "metadata": {},
   "outputs": [],
   "source": [
    "# Select only the rows with values in the name column equal to Toy Story\n",
    "toy_story_genres = movie_genres_df.loc[movie_genres_df['title'] == 'Toy Story (1995)']\n",
    "\n",
    "# Inspect the subset\n",
    "print(toy_story_genres)"
   ]
  },
  {
   "cell_type": "markdown",
   "metadata": {},
   "source": [
    "The newly formatted table with a vector contained in a row per movie and a column per feature will allow us to calculate distances and similarities between movies. "
   ]
  },
  {
   "cell_type": "code",
   "execution_count": null,
   "metadata": {},
   "outputs": [],
   "source": [
    "# Select only the rows with values in the name column equal to Toy Story\n",
    "yogi_bear_genres = movie_genres_df.loc[movie_genres_df['title'] == 'Yogi Bear (2010)']\n",
    "\n",
    "# Inspect the subset\n",
    "print(yogi_bear_genres)"
   ]
  },
  {
   "cell_type": "markdown",
   "metadata": {},
   "source": [
    "Both Yogi Bear and Toy Story are in the 'Children' and 'Comedy' genres. One way to make recommendations is to choose movies that are more similar because they have more genres in common. "
   ]
  },
  {
   "cell_type": "markdown",
   "metadata": {},
   "source": [
    "## Calculating Similarity Between Movies "
   ]
  },
  {
   "cell_type": "markdown",
   "metadata": {},
   "source": [
    "**Jaccard Similarity** is the number of attributes that two items have in common divided by the total number of their combined attributes. "
   ]
  },
  {
   "cell_type": "code",
   "execution_count": null,
   "metadata": {},
   "outputs": [],
   "source": [
    "# Extract just the rows containing GoldenEye and Toy Story\n",
    "goldeneye_values = movie_genres_df.loc[movie_genres_df['title'] == 'GoldenEye (1995)', 'Action':'Western'].values[0]\n",
    "print(goldeneye_values)"
   ]
  },
  {
   "cell_type": "code",
   "execution_count": null,
   "metadata": {},
   "outputs": [],
   "source": [
    "toy_story_values = movie_genres_df.loc[movie_genres_df['title'] == 'Toy Story (1995)', 'Action':'Western'].values[0]\n",
    "print(toy_story_values)"
   ]
  },
  {
   "cell_type": "code",
   "execution_count": null,
   "metadata": {},
   "outputs": [],
   "source": [
    "# Find the similarity between GoldenEye and Toy Story\n",
    "print(jaccard_score(goldeneye_values, toy_story_values))"
   ]
  },
  {
   "cell_type": "markdown",
   "metadata": {},
   "source": [
    "The higher the Jaccard Score, the more similar the two movies are. The similarity score between GoldenEye and Toy Story is low because a spy movie and animated kids' movie aren't that similar. "
   ]
  },
  {
   "cell_type": "code",
   "execution_count": null,
   "metadata": {},
   "outputs": [],
   "source": [
    "skyfall_values = movie_genres_df.loc[movie_genres_df['title'] == 'Skyfall (2012)', 'Action':'Western'].values[0]\n",
    "print(skyfall_values)"
   ]
  },
  {
   "cell_type": "code",
   "execution_count": null,
   "metadata": {},
   "outputs": [],
   "source": [
    "# Find the similarity between GoldenEye and Skyfall\n",
    "print(jaccard_score(goldeneye_values, skyfall_values))"
   ]
  },
  {
   "cell_type": "markdown",
   "metadata": {},
   "source": [
    "The similarity score for two spy films is much higher. "
   ]
  },
  {
   "cell_type": "markdown",
   "metadata": {},
   "source": [
    "Previously, I've seen recommendations that a similarity metric like **Cosine Similarity** would be useful for a sparse movie matrix. This blog post gives a brief description of the differences between Jacard Similarity and Cosine Similarity: https://towardsdatascience.com/overview-of-text-similarity-metrics-3397c4601f50"
   ]
  },
  {
   "cell_type": "markdown",
   "metadata": {},
   "source": [
    "## Comparing Similarity Between All Movies in Dataset "
   ]
  },
  {
   "cell_type": "code",
   "execution_count": null,
   "metadata": {},
   "outputs": [],
   "source": [
    "# Calculate all pairwise distances\n",
    "#jaccard_distances = pdist(movie_cross_table.values, metric='jaccard')\n",
    "# df.loc[:, 'C':'E']\n",
    "movie_cross_table = movie_genres_df.loc[:, 'Action':'Western']\n",
    "movie_cross_table.head()"
   ]
  },
  {
   "cell_type": "code",
   "execution_count": null,
   "metadata": {},
   "outputs": [],
   "source": [
    "movie_cross_table.values"
   ]
  },
  {
   "cell_type": "code",
   "execution_count": null,
   "metadata": {},
   "outputs": [],
   "source": [
    "jaccard_distances = pdist(movie_cross_table.values, metric='jaccard')\n",
    "print(jaccard_distances)"
   ]
  },
  {
   "cell_type": "code",
   "execution_count": null,
   "metadata": {},
   "outputs": [],
   "source": [
    "# Convert the distances to a square matrix\n",
    "jaccard_similarity_array = 1 - squareform(jaccard_distances)\n",
    "print(jaccard_similarity_array)"
   ]
  },
  {
   "cell_type": "markdown",
   "metadata": {},
   "source": [
    "## Similarity Matrix "
   ]
  },
  {
   "cell_type": "code",
   "execution_count": null,
   "metadata": {},
   "outputs": [],
   "source": [
    "# Wrap the array in a pandas DataFrame\n",
    "jaccard_similarity_df = pd.DataFrame(jaccard_similarity_array, \n",
    "                                     index=movie_genres_df['title'], \n",
    "                                     columns=movie_genres_df['title'])\n",
    "jaccard_similarity_df.head()"
   ]
  },
  {
   "cell_type": "markdown",
   "metadata": {},
   "source": [
    "The table has movies as rows and columns for quick lookups of the distance between any movie pairing. "
   ]
  },
  {
   "cell_type": "code",
   "execution_count": null,
   "metadata": {},
   "outputs": [],
   "source": [
    "# Find the values for the movie Thor\n",
    "jaccard_similarity_series = jaccard_similarity_df.loc['Thor (2011)']"
   ]
  },
  {
   "cell_type": "code",
   "execution_count": null,
   "metadata": {},
   "outputs": [],
   "source": [
    "# Sort these values from highest to lowest\n",
    "ordered_similarities = jaccard_similarity_series.sort_values(ascending=False)\n",
    "\n",
    "# Print the results\n",
    "print(ordered_similarities)"
   ]
  },
  {
   "cell_type": "markdown",
   "metadata": {},
   "source": [
    "Harry Potter and the Deathly Hallows: Part 2 is the most similar to Thor. This means that viewers who liked Thor might also like Harry Potter and the Deathly Hallows. "
   ]
  },
  {
   "cell_type": "markdown",
   "metadata": {},
   "source": [
    "## Text-Based Similarities \n",
    "Often in the real world, we will be working without clear attributes. For example, working with the item description for items on the Amazon marketplace. "
   ]
  },
  {
   "cell_type": "markdown",
   "metadata": {},
   "source": [
    "## Term frequency inverse document frequency\n",
    "TF-IDF = (Count of word occurrences / Total words in document) / log(Number of docs word is in/ Total number of docs)"
   ]
  },
  {
   "cell_type": "markdown",
   "metadata": {},
   "source": [
    "This method has the effect of reducing the weight of words that are common in lots of documents while increasing the weight of words that do not appear in many documents. For example, if you were comparing a script for a course about recommendation engines against the scripts for all of the courses on DataCamp, \"DataFrame\" might have a low score because it appears in most of the scripts. The term \"Recommendation\" would receive a high score because it isn't in as many courses' scripts. "
   ]
  },
  {
   "cell_type": "markdown",
   "metadata": {},
   "source": [
    "## Build a User Profile "
   ]
  },
  {
   "cell_type": "markdown",
   "metadata": {},
   "source": [
    "Aggregate the features of movies that a user has liked to create a summary of the user's tastes that can be used to recommend other similar items. When making suggestions, make sure to avoid suggesting movies that the user has already seen. We can create a DataFrame where it is easy to sort the Top-N Recommendations.  "
   ]
  },
  {
   "cell_type": "code",
   "execution_count": null,
   "metadata": {},
   "outputs": [],
   "source": []
  }
 ],
 "metadata": {
  "kernelspec": {
   "display_name": "Python 3",
   "language": "python",
   "name": "python3"
  },
  "language_info": {
   "codemirror_mode": {
    "name": "ipython",
    "version": 3
   },
   "file_extension": ".py",
   "mimetype": "text/x-python",
   "name": "python",
   "nbconvert_exporter": "python",
   "pygments_lexer": "ipython3",
   "version": "3.7.4"
  }
 },
 "nbformat": 4,
 "nbformat_minor": 2
}
